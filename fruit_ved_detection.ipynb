{
  "cells": [
    {
      "cell_type": "markdown",
      "metadata": {
        "id": "bJ6iB7wQzi_A"
      },
      "source": [
        "#importing dataset"
      ]
    },
    {
      "cell_type": "code",
      "execution_count": null,
      "metadata": {
        "colab": {
          "base_uri": "https://localhost:8080/"
        },
        "id": "PcgPkLe2y7nr",
        "outputId": "1120e664-ff15-45e5-8049-4831ea26c214"
      },
      "outputs": [
        {
          "name": "stdout",
          "output_type": "stream",
          "text": [
            "Drive already mounted at /content/drive; to attempt to forcibly remount, call drive.mount(\"/content/drive\", force_remount=True).\n"
          ]
        }
      ],
      "source": [
        "from google.colab import drive\n",
        "drive.mount('/content/drive')"
      ]
    },
    {
      "cell_type": "markdown",
      "metadata": {
        "id": "j1H9fqon0KGY"
      },
      "source": [
        "#importing libreries"
      ]
    },
    {
      "cell_type": "code",
      "execution_count": null,
      "metadata": {
        "id": "AhtmqvsAz8HU"
      },
      "outputs": [],
      "source": [
        "import numpy as np\n",
        "import matplotlib.pyplot as plt\n",
        "import tensorflow as tf\n"
      ]
    },
    {
      "cell_type": "markdown",
      "metadata": {
        "id": "vCaeSht60VHR"
      },
      "source": [
        "#data pre processing"
      ]
    },
    {
      "cell_type": "code",
      "execution_count": null,
      "metadata": {
        "colab": {
          "base_uri": "https://localhost:8080/"
        },
        "id": "v_KLmTTK0hm5",
        "outputId": "5828f0fe-f9b6-44fc-c6aa-b7ff8ccab0d8"
      },
      "outputs": [
        {
          "name": "stdout",
          "output_type": "stream",
          "text": [
            "Found 3115 files belonging to 36 classes.\n"
          ]
        }
      ],
      "source": [
        "import tensorflow as tf\n",
        "\n",
        "training_set=tf.keras.utils.image_dataset_from_directory(\n",
        "    '/content/drive/MyDrive/fruit_veg_detector/archive (2)/train',\n",
        "    labels=\"inferred\",\n",
        "    label_mode=\"categorical\",\n",
        "    class_names=None,\n",
        "    color_mode=\"rgb\",\n",
        "    batch_size=32,\n",
        "    image_size=(64, 64),\n",
        "    shuffle=True,\n",
        "    seed=None,\n",
        "    validation_split=None,\n",
        "    subset=None,\n",
        "    interpolation=\"bilinear\",\n",
        "    follow_links=False,\n",
        "    crop_to_aspect_ratio=False,\n",
        "\n",
        ")"
      ]
    },
    {
      "cell_type": "markdown",
      "metadata": {
        "id": "4hSJ-Csw0e_U"
      },
      "source": []
    },
    {
      "cell_type": "markdown",
      "metadata": {
        "id": "4C5njHqfLG5b"
      },
      "source": []
    },
    {
      "cell_type": "markdown",
      "metadata": {
        "id": "26G4uIsnJ0SF"
      },
      "source": [
        "#validation dataset\n"
      ]
    },
    {
      "cell_type": "code",
      "execution_count": null,
      "metadata": {
        "colab": {
          "base_uri": "https://localhost:8080/"
        },
        "id": "L_q-WrZmJ5To",
        "outputId": "afcba562-9749-4b48-fcfc-0e4d2f01e245"
      },
      "outputs": [
        {
          "name": "stdout",
          "output_type": "stream",
          "text": [
            "Found 351 files belonging to 36 classes.\n"
          ]
        }
      ],
      "source": [
        "import tensorflow as tf\n",
        "\n",
        "validation_set=tf.keras.utils.image_dataset_from_directory(\n",
        "    '/content/drive/MyDrive/fruit_veg_detector/archive (2)/validation',\n",
        "    labels=\"inferred\",\n",
        "    label_mode=\"categorical\",\n",
        "    class_names=None,\n",
        "    color_mode=\"rgb\",\n",
        "    batch_size=32,\n",
        "    image_size=(64, 64),\n",
        "    shuffle=True,\n",
        "    seed=None,\n",
        "    validation_split=None,\n",
        "    subset=None,\n",
        "    interpolation=\"bilinear\",\n",
        "    follow_links=False,\n",
        "    crop_to_aspect_ratio=False,\n",
        "\n",
        ")"
      ]
    },
    {
      "cell_type": "markdown",
      "metadata": {
        "id": "h3HEckc8LAET"
      },
      "source": [
        "#building a model\n"
      ]
    },
    {
      "cell_type": "code",
      "execution_count": null,
      "metadata": {
        "id": "pLy2kcLtLKFw",
        "colab": {
          "base_uri": "https://localhost:8080/"
        },
        "outputId": "a24aee96-3722-4ff2-8d69-ccae15c0545e"
      },
      "outputs": [
        {
          "output_type": "stream",
          "name": "stderr",
          "text": [
            "/usr/local/lib/python3.12/dist-packages/keras/src/layers/convolutional/base_conv.py:113: UserWarning: Do not pass an `input_shape`/`input_dim` argument to a layer. When using Sequential models, prefer using an `Input(shape)` object as the first layer in the model instead.\n",
            "  super().__init__(activity_regularizer=activity_regularizer, **kwargs)\n"
          ]
        }
      ],
      "source": [
        "import tensorflow as tf\n",
        "\n",
        "# Define the CNN model\n",
        "cnn = tf.keras.models.Sequential()\n",
        "cnn.add(tf.keras.layers.Conv2D(filters=32, kernel_size=3, activation='relu', input_shape=[64, 64, 3]))\n",
        "cnn.add(tf.keras.layers.MaxPool2D(pool_size=2, strides=2))\n",
        "cnn.add(tf.keras.layers.Dropout(0.5))\n",
        "cnn.add(tf.keras.layers.Flatten())\n",
        "cnn.add(tf.keras.layers.Dense(units=128, activation='relu'))\n",
        "cnn.add(tf.keras.layers.Dense(units=36, activation='softmax'))\n",
        "\n",
        "# Compile the model\n",
        "cnn.compile(optimizer='adam',loss='categorical_crossentropy',metrics=['accuracy'])"
      ]
    },
    {
      "cell_type": "code",
      "source": [
        "cnn=tf.keras.models.Sequential()"
      ],
      "metadata": {
        "id": "-eAMQjwlZ-B4"
      },
      "execution_count": null,
      "outputs": []
    },
    {
      "cell_type": "markdown",
      "metadata": {
        "id": "-opu_-EGMLaW"
      },
      "source": [
        "#cnn model building"
      ]
    },
    {
      "cell_type": "code",
      "execution_count": null,
      "metadata": {
        "id": "KQNIyrheL3zY"
      },
      "outputs": [],
      "source": [
        "cnn.add(tf.keras.layers.Conv2D(filters=32, kernel_size=3, activation='relu'))\n",
        "cnn.add(tf.keras.layers.MaxPool2D(pool_size=2, strides=2))"
      ]
    },
    {
      "cell_type": "code",
      "execution_count": null,
      "metadata": {
        "id": "PkPZWo9LaoE0"
      },
      "outputs": [],
      "source": [
        "cnn.add(tf.keras.layers.Conv2D(filters=32, kernel_size=3, activation='relu'))\n",
        "cnn.add(tf.keras.layers.MaxPool2D(pool_size=2, strides=2))"
      ]
    },
    {
      "cell_type": "code",
      "execution_count": null,
      "metadata": {
        "id": "EPpg5GMxRJUR"
      },
      "outputs": [],
      "source": [
        "cnn.add(tf.keras.layers.Dropout(0.5))\n",
        "#"
      ]
    },
    {
      "cell_type": "code",
      "execution_count": null,
      "metadata": {
        "id": "OuBFm3_2SBgU"
      },
      "outputs": [],
      "source": [
        "cnn.add(tf.keras.layers.Flatten())"
      ]
    },
    {
      "cell_type": "code",
      "execution_count": null,
      "metadata": {
        "id": "k5GG3v8qSJZi"
      },
      "outputs": [],
      "source": [
        "cnn.add(tf.keras.layers.Dense(units=128, activation='relu'))"
      ]
    },
    {
      "cell_type": "code",
      "execution_count": null,
      "metadata": {
        "id": "1ynsQAWUSYEp"
      },
      "outputs": [],
      "source": [
        "cnn.add(tf.keras.layers.Dense(units=36, activation='softmax'))"
      ]
    },
    {
      "cell_type": "markdown",
      "metadata": {
        "id": "pv4cY3U0TkSF"
      },
      "source": [
        "#compailing and trainig phase"
      ]
    },
    {
      "cell_type": "code",
      "execution_count": null,
      "metadata": {
        "colab": {
          "base_uri": "https://localhost:8080/"
        },
        "id": "sKbQWcYpTx6c",
        "outputId": "ff868f12-10b3-4e07-b6a4-6e2cbf7cf9c1"
      },
      "outputs": [
        {
          "output_type": "stream",
          "name": "stdout",
          "text": [
            "Epoch 1/30\n",
            "\u001b[1m98/98\u001b[0m \u001b[32m━━━━━━━━━━━━━━━━━━━━\u001b[0m\u001b[37m\u001b[0m \u001b[1m1248s\u001b[0m 13s/step - accuracy: 0.0295 - loss: 256.9507 - val_accuracy: 0.0285 - val_loss: 3.5835\n",
            "Epoch 2/30\n",
            "\u001b[1m98/98\u001b[0m \u001b[32m━━━━━━━━━━━━━━━━━━━━\u001b[0m\u001b[37m\u001b[0m \u001b[1m124s\u001b[0m 884ms/step - accuracy: 0.0260 - loss: 3.5831 - val_accuracy: 0.0285 - val_loss: 3.5836\n",
            "Epoch 3/30\n",
            "\u001b[1m98/98\u001b[0m \u001b[32m━━━━━━━━━━━━━━━━━━━━\u001b[0m\u001b[37m\u001b[0m \u001b[1m88s\u001b[0m 893ms/step - accuracy: 0.0240 - loss: 3.5845 - val_accuracy: 0.0285 - val_loss: 3.5837\n",
            "Epoch 4/30\n",
            "\u001b[1m98/98\u001b[0m \u001b[32m━━━━━━━━━━━━━━━━━━━━\u001b[0m\u001b[37m\u001b[0m \u001b[1m86s\u001b[0m 875ms/step - accuracy: 0.0280 - loss: 3.5815 - val_accuracy: 0.0285 - val_loss: 3.5830\n",
            "Epoch 5/30\n",
            "\u001b[1m98/98\u001b[0m \u001b[32m━━━━━━━━━━━━━━━━━━━━\u001b[0m\u001b[37m\u001b[0m \u001b[1m144s\u001b[0m 893ms/step - accuracy: 0.0288 - loss: 3.5875 - val_accuracy: 0.0285 - val_loss: 3.5840\n",
            "Epoch 6/30\n",
            "\u001b[1m98/98\u001b[0m \u001b[32m━━━━━━━━━━━━━━━━━━━━\u001b[0m\u001b[37m\u001b[0m \u001b[1m97s\u001b[0m 990ms/step - accuracy: 0.0272 - loss: 3.5804 - val_accuracy: 0.0313 - val_loss: 3.5823\n",
            "Epoch 7/30\n",
            "\u001b[1m98/98\u001b[0m \u001b[32m━━━━━━━━━━━━━━━━━━━━\u001b[0m\u001b[37m\u001b[0m \u001b[1m88s\u001b[0m 882ms/step - accuracy: 0.0252 - loss: 3.5876 - val_accuracy: 0.0285 - val_loss: 3.5844\n",
            "Epoch 8/30\n",
            "\u001b[1m98/98\u001b[0m \u001b[32m━━━━━━━━━━━━━━━━━━━━\u001b[0m\u001b[37m\u001b[0m \u001b[1m141s\u001b[0m 887ms/step - accuracy: 0.0251 - loss: 3.5799 - val_accuracy: 0.0285 - val_loss: 3.5851\n",
            "Epoch 9/30\n",
            "\u001b[1m98/98\u001b[0m \u001b[32m━━━━━━━━━━━━━━━━━━━━\u001b[0m\u001b[37m\u001b[0m \u001b[1m143s\u001b[0m 893ms/step - accuracy: 0.0261 - loss: 3.5794 - val_accuracy: 0.0285 - val_loss: 3.5848\n",
            "Epoch 10/30\n",
            "\u001b[1m98/98\u001b[0m \u001b[32m━━━━━━━━━━━━━━━━━━━━\u001b[0m\u001b[37m\u001b[0m \u001b[1m96s\u001b[0m 982ms/step - accuracy: 0.0266 - loss: 3.5793 - val_accuracy: 0.0285 - val_loss: 3.5850\n",
            "Epoch 11/30\n",
            "\u001b[1m98/98\u001b[0m \u001b[32m━━━━━━━━━━━━━━━━━━━━\u001b[0m\u001b[37m\u001b[0m \u001b[1m85s\u001b[0m 871ms/step - accuracy: 0.0269 - loss: 3.5795 - val_accuracy: 0.0285 - val_loss: 3.5852\n",
            "Epoch 12/30\n",
            "\u001b[1m98/98\u001b[0m \u001b[32m━━━━━━━━━━━━━━━━━━━━\u001b[0m\u001b[37m\u001b[0m \u001b[1m96s\u001b[0m 978ms/step - accuracy: 0.0274 - loss: 3.5785 - val_accuracy: 0.0285 - val_loss: 3.5855\n",
            "Epoch 13/30\n",
            "\u001b[1m98/98\u001b[0m \u001b[32m━━━━━━━━━━━━━━━━━━━━\u001b[0m\u001b[37m\u001b[0m \u001b[1m87s\u001b[0m 882ms/step - accuracy: 0.0279 - loss: 3.5788 - val_accuracy: 0.0285 - val_loss: 3.5857\n",
            "Epoch 14/30\n",
            "\u001b[1m98/98\u001b[0m \u001b[32m━━━━━━━━━━━━━━━━━━━━\u001b[0m\u001b[37m\u001b[0m \u001b[1m87s\u001b[0m 884ms/step - accuracy: 0.0247 - loss: 3.5795 - val_accuracy: 0.0285 - val_loss: 3.5859\n",
            "Epoch 15/30\n",
            "\u001b[1m98/98\u001b[0m \u001b[32m━━━━━━━━━━━━━━━━━━━━\u001b[0m\u001b[37m\u001b[0m \u001b[1m96s\u001b[0m 975ms/step - accuracy: 0.0249 - loss: 3.5779 - val_accuracy: 0.0285 - val_loss: 3.5861\n",
            "Epoch 16/30\n",
            "\u001b[1m98/98\u001b[0m \u001b[32m━━━━━━━━━━━━━━━━━━━━\u001b[0m\u001b[37m\u001b[0m \u001b[1m88s\u001b[0m 893ms/step - accuracy: 0.0264 - loss: 3.5784 - val_accuracy: 0.0285 - val_loss: 3.5864\n",
            "Epoch 17/30\n",
            "\u001b[1m98/98\u001b[0m \u001b[32m━━━━━━━━━━━━━━━━━━━━\u001b[0m\u001b[37m\u001b[0m \u001b[1m150s\u001b[0m 980ms/step - accuracy: 0.0255 - loss: 3.5776 - val_accuracy: 0.0285 - val_loss: 3.5865\n",
            "Epoch 18/30\n",
            "\u001b[1m98/98\u001b[0m \u001b[32m━━━━━━━━━━━━━━━━━━━━\u001b[0m\u001b[37m\u001b[0m \u001b[1m142s\u001b[0m 977ms/step - accuracy: 0.0257 - loss: 3.5784 - val_accuracy: 0.0256 - val_loss: 3.5868\n",
            "Epoch 19/30\n",
            "\u001b[1m98/98\u001b[0m \u001b[32m━━━━━━━━━━━━━━━━━━━━\u001b[0m\u001b[37m\u001b[0m \u001b[1m142s\u001b[0m 978ms/step - accuracy: 0.0329 - loss: 3.5785 - val_accuracy: 0.0285 - val_loss: 3.5869\n",
            "Epoch 20/30\n",
            "\u001b[1m98/98\u001b[0m \u001b[32m━━━━━━━━━━━━━━━━━━━━\u001b[0m\u001b[37m\u001b[0m \u001b[1m96s\u001b[0m 979ms/step - accuracy: 0.0279 - loss: 3.5784 - val_accuracy: 0.0285 - val_loss: 3.5870\n",
            "Epoch 21/30\n",
            "\u001b[1m98/98\u001b[0m \u001b[32m━━━━━━━━━━━━━━━━━━━━\u001b[0m\u001b[37m\u001b[0m \u001b[1m142s\u001b[0m 979ms/step - accuracy: 0.0270 - loss: 3.5785 - val_accuracy: 0.0285 - val_loss: 3.5872\n",
            "Epoch 22/30\n",
            "\u001b[1m98/98\u001b[0m \u001b[32m━━━━━━━━━━━━━━━━━━━━\u001b[0m\u001b[37m\u001b[0m \u001b[1m134s\u001b[0m 893ms/step - accuracy: 0.0281 - loss: 3.5779 - val_accuracy: 0.0256 - val_loss: 3.5873\n",
            "Epoch 23/30\n",
            "\u001b[1m98/98\u001b[0m \u001b[32m━━━━━━━━━━━━━━━━━━━━\u001b[0m\u001b[37m\u001b[0m \u001b[1m144s\u001b[0m 920ms/step - accuracy: 0.0290 - loss: 3.5768 - val_accuracy: 0.0285 - val_loss: 3.5875\n",
            "Epoch 24/30\n",
            "\u001b[1m98/98\u001b[0m \u001b[32m━━━━━━━━━━━━━━━━━━━━\u001b[0m\u001b[37m\u001b[0m \u001b[1m89s\u001b[0m 904ms/step - accuracy: 0.0282 - loss: 3.5777 - val_accuracy: 0.0285 - val_loss: 3.5876\n",
            "Epoch 25/30\n",
            "\u001b[1m98/98\u001b[0m \u001b[32m━━━━━━━━━━━━━━━━━━━━\u001b[0m\u001b[37m\u001b[0m \u001b[1m97s\u001b[0m 982ms/step - accuracy: 0.0288 - loss: 3.5767 - val_accuracy: 0.0285 - val_loss: 3.5877\n",
            "Epoch 26/30\n",
            "\u001b[1m98/98\u001b[0m \u001b[32m━━━━━━━━━━━━━━━━━━━━\u001b[0m\u001b[37m\u001b[0m \u001b[1m135s\u001b[0m 916ms/step - accuracy: 0.0306 - loss: 3.5770 - val_accuracy: 0.0256 - val_loss: 3.5878\n",
            "Epoch 27/30\n",
            "\u001b[1m98/98\u001b[0m \u001b[32m━━━━━━━━━━━━━━━━━━━━\u001b[0m\u001b[37m\u001b[0m \u001b[1m149s\u001b[0m 981ms/step - accuracy: 0.0324 - loss: 3.5761 - val_accuracy: 0.0256 - val_loss: 3.5880\n",
            "Epoch 28/30\n",
            "\u001b[1m98/98\u001b[0m \u001b[32m━━━━━━━━━━━━━━━━━━━━\u001b[0m\u001b[37m\u001b[0m \u001b[1m96s\u001b[0m 983ms/step - accuracy: 0.0322 - loss: 3.5777 - val_accuracy: 0.0256 - val_loss: 3.5880\n",
            "Epoch 29/30\n",
            "\u001b[1m98/98\u001b[0m \u001b[32m━━━━━━━━━━━━━━━━━━━━\u001b[0m\u001b[37m\u001b[0m \u001b[1m88s\u001b[0m 894ms/step - accuracy: 0.0324 - loss: 3.5819 - val_accuracy: 0.0256 - val_loss: 3.5881\n",
            "Epoch 30/30\n",
            "\u001b[1m98/98\u001b[0m \u001b[32m━━━━━━━━━━━━━━━━━━━━\u001b[0m\u001b[37m\u001b[0m \u001b[1m86s\u001b[0m 877ms/step - accuracy: 0.0305 - loss: 3.5771 - val_accuracy: 0.0256 - val_loss: 3.5882\n"
          ]
        }
      ],
      "source": [
        "training_history = cnn.fit(x=training_set,validation_data=validation_set,epochs=30)"
      ]
    },
    {
      "cell_type": "code",
      "execution_count": null,
      "metadata": {
        "colab": {
          "base_uri": "https://localhost:8080/"
        },
        "id": "CHnZqd5z_IFh",
        "outputId": "6e9c19a1-92a5-4480-d938-2f1676abc645"
      },
      "outputs": [
        {
          "name": "stderr",
          "output_type": "stream",
          "text": [
            "WARNING:absl:You are saving your model as an HDF5 file via `model.save()` or `keras.saving.save_model(model)`. This file format is considered legacy. We recommend using instead the native Keras format, e.g. `model.save('my_model.keras')` or `keras.saving.save_model(model, 'my_model.keras')`. \n"
          ]
        }
      ],
      "source": [
        "cnn.save('trained_model.h5')"
      ]
    },
    {
      "cell_type": "code",
      "execution_count": null,
      "metadata": {
        "id": "U1q_7C4PAabm"
      },
      "outputs": [],
      "source": [
        "import json\n",
        "with open('training_history.json', 'w') as f:\n",
        "    json.dump(training_history.history, f)"
      ]
    },
    {
      "cell_type": "code",
      "source": [
        "training_history.history"
      ],
      "metadata": {
        "colab": {
          "base_uri": "https://localhost:8080/"
        },
        "id": "gBANXdNNdPAP",
        "outputId": "6b1843c8-d59d-446b-8808-981aa99e1623"
      },
      "execution_count": null,
      "outputs": [
        {
          "output_type": "execute_result",
          "data": {
            "text/plain": [
              "{'accuracy': [0.026324236765503883,\n",
              "  0.028892455622553825,\n",
              "  0.027608346194028854,\n",
              "  0.03274478390812874,\n",
              "  0.03242375701665878,\n",
              "  0.03242375701665878,\n",
              "  0.03210273012518883,\n",
              "  0.03274478390812874,\n",
              "  0.03242375701665878,\n",
              "  0.03242375701665878,\n",
              "  0.033065810799598694,\n",
              "  0.03242375701665878,\n",
              "  0.03242375701665878,\n",
              "  0.029534511268138885,\n",
              "  0.02985553815960884,\n",
              "  0.031139647588133812,\n",
              "  0.0272873193025589,\n",
              "  0.02921348251402378,\n",
              "  0.03210273012518883,\n",
              "  0.03146067261695862,\n",
              "  0.031139647588133812,\n",
              "  0.031139647588133812,\n",
              "  0.030176565051078796,\n",
              "  0.030497591942548752,\n",
              "  0.028892455622553825,\n",
              "  0.03146067261695862,\n",
              "  0.03242375701665878,\n",
              "  0.03242375701665878,\n",
              "  0.03210273012518883,\n",
              "  0.03210273012518883],\n",
              " 'loss': [87.69561767578125,\n",
              "  3.582280158996582,\n",
              "  3.583650588989258,\n",
              "  3.579843044281006,\n",
              "  3.581148624420166,\n",
              "  3.5794081687927246,\n",
              "  3.5818333625793457,\n",
              "  3.5788724422454834,\n",
              "  3.5779988765716553,\n",
              "  3.5782337188720703,\n",
              "  3.578181505203247,\n",
              "  3.577259063720703,\n",
              "  3.5772557258605957,\n",
              "  3.5766477584838867,\n",
              "  3.57620906829834,\n",
              "  3.576812744140625,\n",
              "  3.5772616863250732,\n",
              "  3.5760233402252197,\n",
              "  3.575439453125,\n",
              "  3.576155185699463,\n",
              "  3.575244903564453,\n",
              "  3.5748040676116943,\n",
              "  3.5752995014190674,\n",
              "  3.5750930309295654,\n",
              "  3.5748705863952637,\n",
              "  3.5745413303375244,\n",
              "  3.575909376144409,\n",
              "  3.574967384338379,\n",
              "  3.583913803100586,\n",
              "  3.5744786262512207],\n",
              " 'val_accuracy': [0.028490029275417328,\n",
              "  0.028490029275417328,\n",
              "  0.028490029275417328,\n",
              "  0.028490029275417328,\n",
              "  0.028490029275417328,\n",
              "  0.03133903071284294,\n",
              "  0.028490029275417328,\n",
              "  0.028490029275417328,\n",
              "  0.028490029275417328,\n",
              "  0.028490029275417328,\n",
              "  0.028490029275417328,\n",
              "  0.028490029275417328,\n",
              "  0.028490029275417328,\n",
              "  0.028490029275417328,\n",
              "  0.028490029275417328,\n",
              "  0.028490029275417328,\n",
              "  0.028490029275417328,\n",
              "  0.025641025975346565,\n",
              "  0.028490029275417328,\n",
              "  0.028490029275417328,\n",
              "  0.028490029275417328,\n",
              "  0.025641025975346565,\n",
              "  0.028490029275417328,\n",
              "  0.028490029275417328,\n",
              "  0.028490029275417328,\n",
              "  0.025641025975346565,\n",
              "  0.025641025975346565,\n",
              "  0.025641025975346565,\n",
              "  0.025641025975346565,\n",
              "  0.025641025975346565],\n",
              " 'val_loss': [3.5835118293762207,\n",
              "  3.5835824012756348,\n",
              "  3.5836668014526367,\n",
              "  3.5829555988311768,\n",
              "  3.5839760303497314,\n",
              "  3.5823066234588623,\n",
              "  3.5843665599823,\n",
              "  3.585139036178589,\n",
              "  3.584768295288086,\n",
              "  3.5849783420562744,\n",
              "  3.5852150917053223,\n",
              "  3.585468053817749,\n",
              "  3.585665464401245,\n",
              "  3.5859148502349854,\n",
              "  3.5861170291900635,\n",
              "  3.5863819122314453,\n",
              "  3.5865485668182373,\n",
              "  3.586760997772217,\n",
              "  3.586911916732788,\n",
              "  3.5870492458343506,\n",
              "  3.5871970653533936,\n",
              "  3.587343454360962,\n",
              "  3.5875282287597656,\n",
              "  3.5876047611236572,\n",
              "  3.5876972675323486,\n",
              "  3.587808609008789,\n",
              "  3.5879573822021484,\n",
              "  3.5879573822021484,\n",
              "  3.588090658187866,\n",
              "  3.588165283203125]}"
            ]
          },
          "metadata": {},
          "execution_count": 37
        }
      ]
    },
    {
      "cell_type": "code",
      "source": [
        "print(training_history.history.keys)"
      ],
      "metadata": {
        "colab": {
          "base_uri": "https://localhost:8080/"
        },
        "id": "4nVjX7eIdiop",
        "outputId": "6bf44d53-7324-436d-963e-233a7b847978"
      },
      "execution_count": null,
      "outputs": [
        {
          "output_type": "stream",
          "name": "stdout",
          "text": [
            "<built-in method keys of dict object at 0x7eb8e7bfa700>\n"
          ]
        }
      ]
    },
    {
      "cell_type": "code",
      "source": [
        "print(\"validation set Accuracy;{} %\".format( training_history.history['val_accuracy'][-1]*100))"
      ],
      "metadata": {
        "colab": {
          "base_uri": "https://localhost:8080/"
        },
        "id": "SLAs4pGud3zo",
        "outputId": "2344db5a-3c42-46ee-a2fb-ec4a55deb2e9"
      },
      "execution_count": null,
      "outputs": [
        {
          "output_type": "stream",
          "name": "stdout",
          "text": [
            "validation set Accuracy;2.5641025975346565 %\n"
          ]
        }
      ]
    },
    {
      "cell_type": "code",
      "source": [
        "epocs=[i for i in range(30)]\n",
        "plt.plot(epocs,training_history.history['accuracy'],label='training accuracy')\n",
        "plt.plot(epocs,training_history.history['val_accuracy'],label='validation accuracy')"
      ],
      "metadata": {
        "id": "1vZrLJA_f3JG",
        "outputId": "4a8c4ce8-8b24-4a62-eb42-e0c72caa30ae",
        "colab": {
          "base_uri": "https://localhost:8080/",
          "height": 447
        }
      },
      "execution_count": null,
      "outputs": [
        {
          "output_type": "execute_result",
          "data": {
            "text/plain": [
              "[<matplotlib.lines.Line2D at 0x7eb8cf1b3560>]"
            ]
          },
          "metadata": {},
          "execution_count": 44
        },
        {
          "output_type": "display_data",
          "data": {
            "text/plain": [
              "<Figure size 640x480 with 1 Axes>"
            ],
            "image/png": "[encoded data removed]"
          },
          "metadata": {}
        }
      ]
    }
  ],
  "metadata": {
    "colab": {
      "provenance": [],
      "toc_visible": true
    },
    "kernelspec": {
      "display_name": "Python 3",
      "name": "python3"
    },
    "language_info": {
      "name": "python"
    }
  },
  "nbformat": 4,
  "nbformat_minor": 0
}